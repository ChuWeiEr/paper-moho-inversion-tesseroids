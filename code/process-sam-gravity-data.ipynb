{
 "cells": [
  {
   "cell_type": "markdown",
   "metadata": {},
   "source": [
    "# Explore and process the South America gravity data\n",
    "\n",
    "This notebook loads and processes the raw gravity data in [../data/goco05s-sam-s0.1deg-h50km.gdf](../data/goco05s-sam-s0.1deg-h50km.gdf). The data are gravity values in mGal. This notebook calculates the gravity disturbance, performs topographic correction, calculates and removes the effect of sediments (taken from the CRUST1.0 model).\n",
    "\n",
    "The results are saved to text files in the `data` folder for use in inversion and making figures."
   ]
  },
  {
   "cell_type": "markdown",
   "metadata": {},
   "source": [
    "## Package imports"
   ]
  },
  {
   "cell_type": "code",
   "execution_count": null,
   "metadata": {
    "collapsed": true
   },
   "outputs": [],
   "source": [
    "%matplotlib inline"
   ]
  },
  {
   "cell_type": "markdown",
   "metadata": {},
   "source": [
    "Load the standard scientific Python stack to numerical analysis and plotting."
   ]
  },
  {
   "cell_type": "code",
   "execution_count": null,
   "metadata": {
    "collapsed": true
   },
   "outputs": [],
   "source": [
    "from __future__ import division\n",
    "import datetime\n",
    "import numpy as np\n",
    "import matplotlib.pyplot as plt\n",
    "from mpl_toolkits.basemap import Basemap\n",
    "import multiprocessing\n",
    "import seaborn  # Makes the default style of the plots nicer"
   ]
  },
  {
   "cell_type": "markdown",
   "metadata": {},
   "source": [
    "The computations generate a lot of run-time warnings. They aren't anything to be concerned about so disable them to avoid clutter."
   ]
  },
  {
   "cell_type": "code",
   "execution_count": null,
   "metadata": {
    "collapsed": true
   },
   "outputs": [],
   "source": [
    "import warnings\n",
    "warnings.simplefilter('ignore')"
   ]
  },
  {
   "cell_type": "markdown",
   "metadata": {},
   "source": [
    "Load the required modules from [Fatiando a Terra](http://www.fatiando.org)."
   ]
  },
  {
   "cell_type": "code",
   "execution_count": null,
   "metadata": {
    "collapsed": true
   },
   "outputs": [],
   "source": [
    "from fatiando.gravmag import tesseroid, normal_gravity\n",
    "from fatiando import gridder, utils\n",
    "import fatiando"
   ]
  },
  {
   "cell_type": "code",
   "execution_count": null,
   "metadata": {
    "collapsed": false
   },
   "outputs": [],
   "source": [
    "print(\"Version of Fatiando a Terra used: {}\".format(fatiando.__version__))"
   ]
  },
  {
   "cell_type": "markdown",
   "metadata": {},
   "source": [
    "Load our custom classes and functions."
   ]
  },
  {
   "cell_type": "code",
   "execution_count": null,
   "metadata": {
    "collapsed": false
   },
   "outputs": [],
   "source": [
    "from mohoinv import TesseroidRelief, make_mesh\n",
    "from datasets import fetch_crust1, load_icgem_gdf, down_sample"
   ]
  },
  {
   "cell_type": "markdown",
   "metadata": {},
   "source": [
    "Get the number of cores in this computer to run the some things in parallel."
   ]
  },
  {
   "cell_type": "code",
   "execution_count": null,
   "metadata": {
    "collapsed": false
   },
   "outputs": [],
   "source": [
    "ncpu = multiprocessing.cpu_count()\n",
    "print(\"Number of cores: {}\".format(ncpu))"
   ]
  },
  {
   "cell_type": "markdown",
   "metadata": {},
   "source": [
    "## Load and plot the raw data"
   ]
  },
  {
   "cell_type": "code",
   "execution_count": null,
   "metadata": {
    "collapsed": false
   },
   "outputs": [],
   "source": [
    "data = load_icgem_gdf('../data/goco05s-sam-s0.1deg-h50km.gdf')"
   ]
  },
  {
   "cell_type": "markdown",
   "metadata": {},
   "source": [
    "The data is return in a Python dictionary. The following fields are read from the file:"
   ]
  },
  {
   "cell_type": "code",
   "execution_count": null,
   "metadata": {
    "collapsed": false
   },
   "outputs": [],
   "source": [
    "print(data.keys())"
   ]
  },
  {
   "cell_type": "markdown",
   "metadata": {},
   "source": [
    "`metadata` is the file header."
   ]
  },
  {
   "cell_type": "code",
   "execution_count": null,
   "metadata": {
    "collapsed": false
   },
   "outputs": [],
   "source": [
    "print(data['metadata'])"
   ]
  },
  {
   "cell_type": "markdown",
   "metadata": {},
   "source": [
    "We'll need to down sample this data set to a larger grid spacing because it's too large for modeling."
   ]
  },
  {
   "cell_type": "code",
   "execution_count": null,
   "metadata": {
    "collapsed": false
   },
   "outputs": [],
   "source": [
    "arrays = data['latitude'], data['longitude'], data['height'], data['gravity_ell']\n",
    "downsample_every = 2\n",
    "lat, lon, height, grav, shape = down_sample(arrays, data['shape'], every=downsample_every)\n",
    "area = (lat.min(), lat.max(), lon.min(), lon.max())\n",
    "print(\"Data area (S, N, W, E): {}\".format(area))\n",
    "print(\"Number of points in latitude and longitude: {}\".format(shape))\n",
    "print(\"Original dataset size: {}\".format(data['shape']))"
   ]
  },
  {
   "cell_type": "markdown",
   "metadata": {},
   "source": [
    "Setup a [basemap](http://matplotlib.org/basemap/index.html) to plot the data with an appropriate projection."
   ]
  },
  {
   "cell_type": "code",
   "execution_count": null,
   "metadata": {
    "collapsed": false
   },
   "outputs": [],
   "source": [
    "bm = Basemap(projection='cyl', \n",
    "             llcrnrlon=area[2], urcrnrlon=area[3], llcrnrlat=area[0], urcrnrlat=area[1],\n",
    "             lon_0=0.5*(area[2] + area[3]), lat_0=0.5*(area[1] + area[0]), \n",
    "             resolution='l')"
   ]
  },
  {
   "cell_type": "markdown",
   "metadata": {},
   "source": [
    "Make a plotting function to avoid repeating this code."
   ]
  },
  {
   "cell_type": "code",
   "execution_count": null,
   "metadata": {
    "collapsed": false
   },
   "outputs": [],
   "source": [
    "def plot_data(lat, lon, data, shape, cmap, cblabel='mGal', levels=60, ranges=True):\n",
    "    x, y = bm(lon, lat) # Transform lat and lon into plot coordinates\n",
    "    kwargs = dict(cmap=cmap)\n",
    "    if ranges:\n",
    "        ranges = np.abs([data.min(), data.max()]).max()\n",
    "        kwargs['vmin'] = -ranges\n",
    "        kwargs['vmax'] = ranges\n",
    "    fig = plt.figure(figsize=(7, 6))\n",
    "    bm.contourf(x.reshape(shape), y.reshape(shape), data.reshape(shape), levels, **kwargs)\n",
    "    plt.colorbar(pad=0.01, aspect=50).set_label(cblabel)\n",
    "    bm.drawmeridians(np.arange(-80, -30, 10), labels=[0, 0, 0, 1], linewidth=0.2)\n",
    "    bm.drawparallels(np.arange(-50, 30, 15), labels=[1, 0, 0, 0], linewidth=0.2)\n",
    "    bm.drawcoastlines(color=\"#333333\")\n",
    "    plt.tight_layout(pad=0)\n",
    "    return fig"
   ]
  },
  {
   "cell_type": "markdown",
   "metadata": {},
   "source": [
    "Plot the raw gravity data."
   ]
  },
  {
   "cell_type": "code",
   "execution_count": null,
   "metadata": {
    "collapsed": false
   },
   "outputs": [],
   "source": [
    "plot_data(lat, lon, grav, shape, 'Reds', ranges=False)\n",
    "plt.title('Raw Gravity')"
   ]
  },
  {
   "cell_type": "markdown",
   "metadata": {},
   "source": [
    "## Calculate gravity disturbance"
   ]
  },
  {
   "cell_type": "markdown",
   "metadata": {},
   "source": [
    "The gravity distance is the raw gravity data minus the effect of the Normal Earth ($\\gamma$) calculated at the observation point.\n",
    "\n",
    "Fatiando a Terra offers the `gamma_closed_form` function that calculates $\\gamma$ at any latitude and height using the closed form formula in [Li and Gotze (2001)](http://dx.doi.org/10.1190/1.1487109)."
   ]
  },
  {
   "cell_type": "code",
   "execution_count": null,
   "metadata": {
    "collapsed": true
   },
   "outputs": [],
   "source": [
    "disturbance = grav - normal_gravity.gamma_closed_form(lat, height)"
   ]
  },
  {
   "cell_type": "code",
   "execution_count": null,
   "metadata": {
    "collapsed": false
   },
   "outputs": [],
   "source": [
    "plot_data(lat, lon, disturbance, shape, 'RdBu_r')\n",
    "plt.title('Gravity disturbance')"
   ]
  },
  {
   "cell_type": "markdown",
   "metadata": {},
   "source": [
    "## Terrain correction"
   ]
  },
  {
   "cell_type": "markdown",
   "metadata": {},
   "source": [
    "The next step is to remove the effect of the topography and water layer. Let's load the topography data downloaded from [ICGEM](http://icgem.gfz-potsdam.de/ICGEM/). This data is [ETOPO1](http://ngdc.noaa.gov/mgg/global/global.html) calculated by interpolation on the specified grid points of our data."
   ]
  },
  {
   "cell_type": "code",
   "execution_count": null,
   "metadata": {
    "collapsed": false
   },
   "outputs": [],
   "source": [
    "topo_data = load_icgem_gdf('../data/topography-sam-s0.1deg.gdf', usecols=[-1])"
   ]
  },
  {
   "cell_type": "code",
   "execution_count": null,
   "metadata": {
    "collapsed": false
   },
   "outputs": [],
   "source": [
    "print(topo_data['metadata'])"
   ]
  },
  {
   "cell_type": "code",
   "execution_count": null,
   "metadata": {
    "collapsed": false
   },
   "outputs": [],
   "source": [
    "topo, _ = down_sample([topo_data['topography_grd']], topo_data['shape'], every=downsample_every)"
   ]
  },
  {
   "cell_type": "code",
   "execution_count": null,
   "metadata": {
    "collapsed": false
   },
   "outputs": [],
   "source": [
    "plot_data(lat, lon, topo, shape, cmap='terrain', cblabel='meters')\n",
    "plt.title('Topography')"
   ]
  },
  {
   "cell_type": "markdown",
   "metadata": {},
   "source": [
    "We'll make a tesseroid model of the topography so that we can calculate it's gravitational effect in spherical coordinates. The `make_mesh` function of [`mohoinv.py`](mohoinv.py) automates this process for us. Each point in the topography grid is at the center of the top face of a tesseroid."
   ]
  },
  {
   "cell_type": "code",
   "execution_count": null,
   "metadata": {
    "collapsed": true
   },
   "outputs": [],
   "source": [
    "topo_model = make_mesh(area, shape, topo, reference=0) "
   ]
  },
  {
   "cell_type": "markdown",
   "metadata": {},
   "source": [
    "Now we need to set a density value for the topography. We'll use the standard 2670 kg/m³ for the rocks (topography > 0) and -1630 = 1040 - 2670 kg/m³ for water (topography < 0)."
   ]
  },
  {
   "cell_type": "code",
   "execution_count": null,
   "metadata": {
    "collapsed": true
   },
   "outputs": [],
   "source": [
    "topo_density = 2670*np.ones(topo_model.size)\n",
    "# Density in the oceans is rho_water\n",
    "topo_density[topo_model.relief < topo_model.reference] = -1630\n",
    "topo_model.addprop('density', topo_density)"
   ]
  },
  {
   "cell_type": "markdown",
   "metadata": {},
   "source": [
    "Forward model the effect of the topography in spherical coordinates using tesseroids. Use all available cores for this calculation. It will take a while."
   ]
  },
  {
   "cell_type": "code",
   "execution_count": null,
   "metadata": {
    "collapsed": false
   },
   "outputs": [],
   "source": [
    "%time topo_effect = tesseroid.gz(lon, lat, height, topo_model, njobs=ncpu)"
   ]
  },
  {
   "cell_type": "code",
   "execution_count": null,
   "metadata": {
    "collapsed": false
   },
   "outputs": [],
   "source": [
    "plot_data(lat, lon, topo_effect, shape, cmap='RdBu_r')\n",
    "plt.title('Topographic gravitational effect')"
   ]
  },
  {
   "cell_type": "markdown",
   "metadata": {},
   "source": [
    "The Bouguer anomaly will be the disturbance minus the effect of the topography."
   ]
  },
  {
   "cell_type": "code",
   "execution_count": null,
   "metadata": {
    "collapsed": true
   },
   "outputs": [],
   "source": [
    "bouguer = disturbance - topo_effect"
   ]
  },
  {
   "cell_type": "code",
   "execution_count": null,
   "metadata": {
    "collapsed": false
   },
   "outputs": [],
   "source": [
    "plot_data(lat, lon, bouguer, shape, cmap='RdBu_r')\n",
    "plt.title('Bouguer anomaly')"
   ]
  },
  {
   "cell_type": "markdown",
   "metadata": {},
   "source": [
    "## Remove the effect of sediments\n"
   ]
  },
  {
   "cell_type": "markdown",
   "metadata": {
    "collapsed": true
   },
   "source": [
    "We need to remove the gravitational effect of the sedimentary layers from our data to isolate the Moho effect. We'll not consider any other crutal density anomalies because South America is not well represented in the CRUST1.0 model. Instead of assuming a most likely wrong crustal density, we choose to err on the side of simplicity and assume no crustal density anomalies."
   ]
  },
  {
   "cell_type": "markdown",
   "metadata": {},
   "source": [
    "Load the CRUST1.0 model for South America."
   ]
  },
  {
   "cell_type": "code",
   "execution_count": null,
   "metadata": {
    "collapsed": true
   },
   "outputs": [],
   "source": [
    "crust1 = fetch_crust1('../data/crust1.0.tar.gz').cut(area)"
   ]
  },
  {
   "cell_type": "markdown",
   "metadata": {},
   "source": [
    "Get the three sedimentary layers from the model. We need to transform their density values into density contrasts with respect to the standard crustal density od 2670 kg/m³."
   ]
  },
  {
   "cell_type": "code",
   "execution_count": null,
   "metadata": {
    "collapsed": false
   },
   "outputs": [],
   "source": [
    "layers = [l.contrast('density', 2670) \n",
    "          for l in [crust1.upper_sediments, crust1.middle_sediments, crust1.lower_sediments]]\n",
    "layer_names = ['Upper sediments', 'Middle Sediments', 'Lower sediments']"
   ]
  },
  {
   "cell_type": "markdown",
   "metadata": {},
   "source": [
    "Plot the sediment thickness."
   ]
  },
  {
   "cell_type": "code",
   "execution_count": null,
   "metadata": {
    "collapsed": false
   },
   "outputs": [],
   "source": [
    "x, y = bm(crust1.lon + 360, crust1.lat) # Transform lat and lon into plot coordinates\n",
    "for layer_name, layer in zip(layer_names, layers):\n",
    "    fig = plt.figure(figsize=(7, 6))\n",
    "    bm.pcolormesh(x, y, layer.thickness, cmap='copper')\n",
    "    plt.colorbar(pad=0.01, aspect=50).set_label('Thickness (m)')\n",
    "    bm.drawmeridians(np.arange(-80, -30, 10), labels=[0, 0, 0, 1], linewidth=0.2)\n",
    "    bm.drawparallels(np.arange(-50, 30, 15), labels=[1, 0, 0, 0], linewidth=0.2)\n",
    "    bm.drawcoastlines(color=\"#eeeeee\")    \n",
    "    plt.title(layer_name)\n",
    "    plt.tight_layout(pad=0)"
   ]
  },
  {
   "cell_type": "markdown",
   "metadata": {},
   "source": [
    "Calculate the gravitational effect of each layer and the total effect of all layers."
   ]
  },
  {
   "cell_type": "code",
   "execution_count": null,
   "metadata": {
    "collapsed": false
   },
   "outputs": [],
   "source": [
    "%time sediment_effects = [tesseroid.gz(lon, lat, height, list(layer.tesseroids), njobs=ncpu) for layer in layers]"
   ]
  },
  {
   "cell_type": "code",
   "execution_count": null,
   "metadata": {
    "collapsed": true
   },
   "outputs": [],
   "source": [
    "total_sediment_effect = np.sum(sediment_effects, axis=0)"
   ]
  },
  {
   "cell_type": "markdown",
   "metadata": {},
   "source": [
    "Plot the effect of each layer and the total sediment effect."
   ]
  },
  {
   "cell_type": "code",
   "execution_count": null,
   "metadata": {
    "collapsed": false
   },
   "outputs": [],
   "source": [
    "for layer_name, effect in zip(layer_names, sediment_effects):\n",
    "    plot_data(lat, lon, effect, shape, 'RdBu_r')\n",
    "    plt.title(\"Gravitational effect of \" + layer_name.lower())"
   ]
  },
  {
   "cell_type": "code",
   "execution_count": null,
   "metadata": {
    "collapsed": false
   },
   "outputs": [],
   "source": [
    "plot_data(lat, lon, total_sediment_effect, shape, cmap='RdBu_r')\n",
    "plt.title('Total sediment effect')"
   ]
  },
  {
   "cell_type": "markdown",
   "metadata": {},
   "source": [
    "Calculate the sediment-free Bouguer anomaly."
   ]
  },
  {
   "cell_type": "code",
   "execution_count": null,
   "metadata": {
    "collapsed": true
   },
   "outputs": [],
   "source": [
    "sedfree_bouguer = bouguer - total_sediment_effect"
   ]
  },
  {
   "cell_type": "code",
   "execution_count": null,
   "metadata": {
    "collapsed": false
   },
   "outputs": [],
   "source": [
    "plot_data(lat, lon, sedfree_bouguer, shape, cmap='RdBu_r')\n",
    "plt.title('Sediment-free Bouguer anomaly')"
   ]
  },
  {
   "cell_type": "markdown",
   "metadata": {},
   "source": [
    "## Save the data\n",
    "\n",
    "Save the processed data and all intermediate values to the space-delimited text file [../data/processed-goco5s-data-sam-h50km.txt](../data/processed-goco5s-data-sam-h50km.txt)."
   ]
  },
  {
   "cell_type": "code",
   "execution_count": null,
   "metadata": {
    "collapsed": false
   },
   "outputs": [],
   "source": [
    "now = datetime.datetime.utcnow().strftime('%d %B %Y %H:%M:%S UTC')\n",
    "header = \"\"\"# Generated by process-sam-gravity-data.ipynb on {date}\n",
    "# shape (nlat, nlon):\n",
    "# {nlat} {nlon}\n",
    "# lat lon height topo gravity disturbance topo_effect bouguer upper_sediment middle_sediment lower_sediment total_sediment sedfree_bouguer\n",
    "\"\"\".format(date=now, nlat=shape[0], nlon=shape[1])\n",
    "with open('../data/processed-goco5s-data-sam-h50km.txt', 'w') as f:\n",
    "    f.write(header)\n",
    "    np.savetxt(f, np.c_[lat, lon, height, topo, grav, disturbance, topo_effect, bouguer, \n",
    "                        sediment_effects[0], sediment_effects[1], sediment_effects[2], total_sediment_effect, \n",
    "                        sedfree_bouguer],\n",
    "               fmt='%.5f')"
   ]
  }
 ],
 "metadata": {
  "kernelspec": {
   "display_name": "Python 2",
   "language": "python",
   "name": "python2"
  },
  "language_info": {
   "codemirror_mode": {
    "name": "ipython",
    "version": 2
   },
   "file_extension": ".py",
   "mimetype": "text/x-python",
   "name": "python",
   "nbconvert_exporter": "python",
   "pygments_lexer": "ipython2",
   "version": "2.7.11"
  }
 },
 "nbformat": 4,
 "nbformat_minor": 0
}
